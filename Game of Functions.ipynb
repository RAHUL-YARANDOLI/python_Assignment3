{
 "cells": [
  {
   "cell_type": "markdown",
   "id": "53a5d964",
   "metadata": {},
   "source": [
    "#Write a Python function to sum all the numbers in a list.\n",
    "\n",
    "Sample List: (8, 2, 3, 0, 7) Expected Output: 20\n",
    "\n",
    "Explanation:\n",
    "\n",
    "Summation should like 8 + 2 + 3 + 0 + 7 = 20"
   ]
  },
  {
   "cell_type": "code",
   "execution_count": 12,
   "id": "c61e061f",
   "metadata": {},
   "outputs": [
    {
     "name": "stdout",
     "output_type": "stream",
     "text": [
      "Sum of numbers in the List: 8 + 2 + 3 + 0 + 7 = 20\n"
     ]
    }
   ],
   "source": [
    "def sum_list_numbers(numbers):\n",
    "    total = sum(numbers)\n",
    "    return total\n",
    "\n",
    "sample_list = [8, 2, 3, 0, 7]\n",
    "\n",
    "result = sum_list_numbers(sample_list)\n",
    "summation = ' + '.join(map(str, sample_list)) + f' = {result}'\n",
    "print(\"Sum of numbers in the List: \" +summation)\n"
   ]
  },
  {
   "cell_type": "code",
   "execution_count": null,
   "id": "f1889d15",
   "metadata": {},
   "outputs": [],
   "source": []
  }
 ],
 "metadata": {
  "kernelspec": {
   "display_name": "Python 3 (ipykernel)",
   "language": "python",
   "name": "python3"
  },
  "language_info": {
   "codemirror_mode": {
    "name": "ipython",
    "version": 3
   },
   "file_extension": ".py",
   "mimetype": "text/x-python",
   "name": "python",
   "nbconvert_exporter": "python",
   "pygments_lexer": "ipython3",
   "version": "3.9.12"
  }
 },
 "nbformat": 4,
 "nbformat_minor": 5
}
