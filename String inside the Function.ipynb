{
 "cells": [
  {
   "cell_type": "markdown",
   "id": "41d34cb6",
   "metadata": {},
   "source": [
    "Write a Python program to reverse a string.\n",
    "\n",
    "Sample String: \"1234abcd\" \n",
    "Expected Output: \"dcba4321\""
   ]
  },
  {
   "cell_type": "code",
   "execution_count": 14,
   "id": "a6412d4c",
   "metadata": {},
   "outputs": [
    {
     "name": "stdout",
     "output_type": "stream",
     "text": [
      "Reversed String: dcba4321\n"
     ]
    }
   ],
   "source": [
    "def reverse_string(input_string):\n",
    "    reversed_str = \"\"\n",
    "    for char in input_string:\n",
    "        reversed_str = char + reversed_str\n",
    "    return reversed_str\n",
    "\n",
    "sample_string = \"1234abcd\"\n",
    "result = reverse_string(sample_string)\n",
    "print(\"Reversed String:\", result)"
   ]
  },
  {
   "cell_type": "code",
   "execution_count": null,
   "id": "57eff2c3",
   "metadata": {},
   "outputs": [],
   "source": []
  }
 ],
 "metadata": {
  "kernelspec": {
   "display_name": "Python 3 (ipykernel)",
   "language": "python",
   "name": "python3"
  },
  "language_info": {
   "codemirror_mode": {
    "name": "ipython",
    "version": 3
   },
   "file_extension": ".py",
   "mimetype": "text/x-python",
   "name": "python",
   "nbconvert_exporter": "python",
   "pygments_lexer": "ipython3",
   "version": "3.9.12"
  }
 },
 "nbformat": 4,
 "nbformat_minor": 5
}
